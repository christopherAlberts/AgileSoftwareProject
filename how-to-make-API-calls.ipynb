{
 "cells": [
  {
   "cell_type": "code",
   "execution_count": null,
   "id": "faf5ee78",
   "metadata": {},
   "outputs": [],
   "source": [
    "import requests\n",
    "url = \"https://test.api.amadeus.com/v1/security/oauth2/token\"\n",
    "headers = {\"Content-Type\": \"application/x-www-form-urlencoded\"}\n",
    "data = {\"grant_type\": \"client_credentials\", \"client_id\": \"xxxx\", \"client_secret\": \"xxxx\"}\n",
    "\n",
    "response = requests.post(url, headers=headers, data=data)\n"
   ]
  },
  {
   "cell_type": "code",
   "execution_count": null,
   "id": "33e72ada",
   "metadata": {},
   "outputs": [],
   "source": [
    "print(response.text)\n"
   ]
  },
  {
   "cell_type": "code",
   "execution_count": null,
   "id": "e9f4fb8d",
   "metadata": {},
   "outputs": [],
   "source": [
    "import requests\n",
    "\n",
    "url = \"https://test.api.amadeus.com/v2/shopping/flight-offers\"\n",
    "\n",
    "querystring = {\"originLocationCode\":\"NRT\",\n",
    "               \"destinationLocationCode\":\"LAX\",\n",
    "               \"departureDate\":\"2022-08-01\",\n",
    "               \"adults\": 1,\n",
    "               \"currencyCode\": \"USD\",\n",
    "               \"nonStop\": \"true\",\n",
    "               \"max\": 1\n",
    "              }\n",
    "headers = {\"Authorization\": \"Bearer xxxx\"}\n",
    "\n",
    "\n",
    "response = requests.request(\"GET\", url, headers=headers, params=querystring)\n",
    "\n",
    "print(response.text)"
   ]
  },
  {
   "cell_type": "code",
   "execution_count": null,
   "id": "8bebd4bf",
   "metadata": {},
   "outputs": [],
   "source": [
    "url = \"https://airlabs.co/api/v9/flights\"\n",
    "\n",
    "querystring = {\"api_key\":\"xxx\",\n",
    "              }\n",
    "\n",
    "\n",
    "response = requests.request(\"GET\", url, headers=headers, params=querystring)\n",
    "\n",
    "print(response.text)"
   ]
  },
  {
   "cell_type": "code",
   "execution_count": null,
   "id": "bb7d9020",
   "metadata": {},
   "outputs": [],
   "source": [
    "response.text"
   ]
  },
  {
   "cell_type": "code",
   "execution_count": null,
   "id": "1ba63ee8",
   "metadata": {},
   "outputs": [],
   "source": []
  }
 ],
 "metadata": {
  "kernelspec": {
   "display_name": "kernel_for_midterm",
   "language": "python",
   "name": "kernel_for_midterm"
  },
  "language_info": {
   "codemirror_mode": {
    "name": "ipython",
    "version": 3
   },
   "file_extension": ".py",
   "mimetype": "text/x-python",
   "name": "python",
   "nbconvert_exporter": "python",
   "pygments_lexer": "ipython3",
   "version": "3.8.9"
  }
 },
 "nbformat": 4,
 "nbformat_minor": 5
}
